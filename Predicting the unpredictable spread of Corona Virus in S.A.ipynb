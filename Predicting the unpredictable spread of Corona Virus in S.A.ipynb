{
 "cells": [
  {
   "cell_type": "markdown",
   "metadata": {},
   "source": [
    "# Predicting the unpredictable spread of Corona Virus in South Africa"
   ]
  },
  {
   "cell_type": "markdown",
   "metadata": {},
   "source": [
    "## Introduction\n",
    "\n",
    "### What is COVID-19?\n",
    "\n",
    "SARS-CoV-2 is a new strain of coronavirus that has not been previously identified in humans. COVID-19 was identified as the cause of an outbreak of respiratory illness first detected in Wuhan, China.\n",
    "\n",
    "On 5 March 2020, Minister of Health Zweli Mkhize confirmed the spread of the virus to South Africa, with the first known patient being a male citizen who tested positive upon his return from Italy. The first two deaths to have occurred from the disease were reported on 27 March 2020. As of August 2020, South Africa has the highest number of COVID-19 cases in Africa and the sixth highest number of confirmed infections worldwide.\n",
    "\n",
    "On 15 March, the President of South Africa, Cyril Ramaphosa, declared a national state of disaster and announced measures such as immediate travel restrictions and the closure of schools from 18 March. On 17 March, the National Coronavirus Command Council was established, \"to lead the nation's plan to contain the spread and mitigate the negative impact of the coronavirus\". On 23 March, a national lockdown was announced, starting on 26 March 2020. On 21 April, a 500 billion rand stimulus was announced in response to the pandemic.\n",
    "\n",
    "### Predicting the Spread\n",
    "\n",
    "The objective of this notebook is to evaluate and develop a model that can predict the spread of the novel corona virus in South Africa. The hope of many South African's, business and governement is to see the economy opening up after the devastating effects of the lockdown measures which have left many realing from loss of income, companies closed, and restricted movement in the informal market. Using past data we will be predicting the number of cases of Corona up the end of year and seek to estimate when the economy will be opened. The Time Series data of confirmed cases will be modeled using comparisons between Facebook's Prophet and LSTM model."
   ]
  },
  {
   "cell_type": "code",
   "execution_count": 2,
   "metadata": {},
   "outputs": [
    {
     "name": "stderr",
     "output_type": "stream",
     "text": [
      "In C:\\ProgramData\\Anaconda3\\lib\\site-packages\\matplotlib\\mpl-data\\stylelib\\_classic_test.mplstyle: \n",
      "The text.latex.preview rcparam was deprecated in Matplotlib 3.3 and will be removed two minor releases later.\n",
      "In C:\\ProgramData\\Anaconda3\\lib\\site-packages\\matplotlib\\mpl-data\\stylelib\\_classic_test.mplstyle: \n",
      "The mathtext.fallback_to_cm rcparam was deprecated in Matplotlib 3.3 and will be removed two minor releases later.\n",
      "In C:\\ProgramData\\Anaconda3\\lib\\site-packages\\matplotlib\\mpl-data\\stylelib\\_classic_test.mplstyle: Support for setting the 'mathtext.fallback_to_cm' rcParam is deprecated since 3.3 and will be removed two minor releases later; use 'mathtext.fallback : 'cm' instead.\n",
      "In C:\\ProgramData\\Anaconda3\\lib\\site-packages\\matplotlib\\mpl-data\\stylelib\\_classic_test.mplstyle: \n",
      "The validate_bool_maybe_none function was deprecated in Matplotlib 3.3 and will be removed two minor releases later.\n",
      "In C:\\ProgramData\\Anaconda3\\lib\\site-packages\\matplotlib\\mpl-data\\stylelib\\_classic_test.mplstyle: \n",
      "The savefig.jpeg_quality rcparam was deprecated in Matplotlib 3.3 and will be removed two minor releases later.\n",
      "In C:\\ProgramData\\Anaconda3\\lib\\site-packages\\matplotlib\\mpl-data\\stylelib\\_classic_test.mplstyle: \n",
      "The keymap.all_axes rcparam was deprecated in Matplotlib 3.3 and will be removed two minor releases later.\n",
      "In C:\\ProgramData\\Anaconda3\\lib\\site-packages\\matplotlib\\mpl-data\\stylelib\\_classic_test.mplstyle: \n",
      "The animation.avconv_path rcparam was deprecated in Matplotlib 3.3 and will be removed two minor releases later.\n",
      "In C:\\ProgramData\\Anaconda3\\lib\\site-packages\\matplotlib\\mpl-data\\stylelib\\_classic_test.mplstyle: \n",
      "The animation.avconv_args rcparam was deprecated in Matplotlib 3.3 and will be removed two minor releases later.\n"
     ]
    }
   ],
   "source": [
    "from __future__ import print_function\n",
    "# Import needed packages\n",
    "\n",
    "import pandas as pd\n",
    "import numpy as np\n",
    "import matplotlib.pyplot as plt\n",
    "%matplotlib inline\n",
    "from fbprophet import Prophet \n",
    "from fbprophet.plot import plot_cross_validation_metric\n",
    "from fbprophet.diagnostics import performance_metrics\n",
    "from fbprophet.diagnostics import cross_validation\n",
    "import warnings\n",
    "warnings.filterwarnings('ignore')"
   ]
  },
  {
   "cell_type": "markdown",
   "metadata": {},
   "source": [
    "### Loading the data"
   ]
  },
  {
   "cell_type": "code",
   "execution_count": 3,
   "metadata": {},
   "outputs": [
    {
     "data": {
      "text/html": [
       "<div>\n",
       "<style scoped>\n",
       "    .dataframe tbody tr th:only-of-type {\n",
       "        vertical-align: middle;\n",
       "    }\n",
       "\n",
       "    .dataframe tbody tr th {\n",
       "        vertical-align: top;\n",
       "    }\n",
       "\n",
       "    .dataframe thead th {\n",
       "        text-align: right;\n",
       "    }\n",
       "</style>\n",
       "<table border=\"1\" class=\"dataframe\">\n",
       "  <thead>\n",
       "    <tr style=\"text-align: right;\">\n",
       "      <th></th>\n",
       "      <th>ds</th>\n",
       "      <th>y</th>\n",
       "    </tr>\n",
       "  </thead>\n",
       "  <tbody>\n",
       "    <tr>\n",
       "      <th>165</th>\n",
       "      <td>2020-08-19</td>\n",
       "      <td>596060</td>\n",
       "    </tr>\n",
       "    <tr>\n",
       "      <th>166</th>\n",
       "      <td>2020-08-20</td>\n",
       "      <td>599940</td>\n",
       "    </tr>\n",
       "    <tr>\n",
       "      <th>167</th>\n",
       "      <td>2020-08-21</td>\n",
       "      <td>603338</td>\n",
       "    </tr>\n",
       "    <tr>\n",
       "      <th>168</th>\n",
       "      <td>2020-08-22</td>\n",
       "      <td>607045</td>\n",
       "    </tr>\n",
       "    <tr>\n",
       "      <th>169</th>\n",
       "      <td>2020-08-23</td>\n",
       "      <td>609773</td>\n",
       "    </tr>\n",
       "  </tbody>\n",
       "</table>\n",
       "</div>"
      ],
      "text/plain": [
       "            ds       y\n",
       "165 2020-08-19  596060\n",
       "166 2020-08-20  599940\n",
       "167 2020-08-21  603338\n",
       "168 2020-08-22  607045\n",
       "169 2020-08-23  609773"
      ]
     },
     "execution_count": 3,
     "metadata": {},
     "output_type": "execute_result"
    }
   ],
   "source": [
    "df = pd.read_csv(r'C:\\Users\\cheml\\Documents\\Skul\\Datasets\\covid19za-master\\data\\covid19za_provincial_cumulative_timeline_confirmed.csv')\n",
    "df['date'] = pd.to_datetime(df['date'])\n",
    "df_confirmed = df[[\"date\", \"total\"]]\n",
    "\n",
    "# Prophet uses 'ds' and 'y'\n",
    "\n",
    "df_confirmed = df_confirmed.rename(columns={\"date\":\"ds\", \"total\":\"y\",})\n",
    "df_confirmed.tail(5)\n"
   ]
  },
  {
   "cell_type": "markdown",
   "metadata": {},
   "source": [
    "## Forecasting \n",
    "\n",
    "Steps involved in forecasting:\n",
    "\n",
    "1. Building the model\n",
    "2. Fitting the model\n",
    "3. Creating dataframe for the upcoming days\n",
    "4. Forecasting\n",
    "5. Plotting"
   ]
  },
  {
   "cell_type": "markdown",
   "metadata": {},
   "source": [
    "## Forecasting Confirmed Cases in South Africa"
   ]
  },
  {
   "cell_type": "code",
   "execution_count": 4,
   "metadata": {},
   "outputs": [
    {
     "data": {
      "text/html": [
       "<div>\n",
       "<style scoped>\n",
       "    .dataframe tbody tr th:only-of-type {\n",
       "        vertical-align: middle;\n",
       "    }\n",
       "\n",
       "    .dataframe tbody tr th {\n",
       "        vertical-align: top;\n",
       "    }\n",
       "\n",
       "    .dataframe thead th {\n",
       "        text-align: right;\n",
       "    }\n",
       "</style>\n",
       "<table border=\"1\" class=\"dataframe\">\n",
       "  <thead>\n",
       "    <tr style=\"text-align: right;\">\n",
       "      <th></th>\n",
       "      <th>ds</th>\n",
       "      <th>y</th>\n",
       "    </tr>\n",
       "  </thead>\n",
       "  <tbody>\n",
       "    <tr>\n",
       "      <th>165</th>\n",
       "      <td>2020-08-19</td>\n",
       "      <td>596060</td>\n",
       "    </tr>\n",
       "    <tr>\n",
       "      <th>166</th>\n",
       "      <td>2020-08-20</td>\n",
       "      <td>599940</td>\n",
       "    </tr>\n",
       "    <tr>\n",
       "      <th>167</th>\n",
       "      <td>2020-08-21</td>\n",
       "      <td>603338</td>\n",
       "    </tr>\n",
       "    <tr>\n",
       "      <th>168</th>\n",
       "      <td>2020-08-22</td>\n",
       "      <td>607045</td>\n",
       "    </tr>\n",
       "    <tr>\n",
       "      <th>169</th>\n",
       "      <td>2020-08-23</td>\n",
       "      <td>609773</td>\n",
       "    </tr>\n",
       "  </tbody>\n",
       "</table>\n",
       "</div>"
      ],
      "text/plain": [
       "            ds       y\n",
       "165 2020-08-19  596060\n",
       "166 2020-08-20  599940\n",
       "167 2020-08-21  603338\n",
       "168 2020-08-22  607045\n",
       "169 2020-08-23  609773"
      ]
     },
     "execution_count": 4,
     "metadata": {},
     "output_type": "execute_result"
    }
   ],
   "source": [
    "df_confirmed.tail(5) "
   ]
  },
  {
   "cell_type": "markdown",
   "metadata": {},
   "source": [
    "### 1. Building the Model"
   ]
  },
  {
   "cell_type": "code",
   "execution_count": 5,
   "metadata": {},
   "outputs": [],
   "source": [
    "model = Prophet(interval_width=0.95, yearly_seasonality=True, daily_seasonality=True, changepoint_prior_scale=0.15)\n",
    "\n",
    "# interval_width means the confidence level. 0.95 implies that the model will try to forecast with an accuracy of 95%"
   ]
  },
  {
   "cell_type": "markdown",
   "metadata": {},
   "source": [
    "### 2. Fitting the Model"
   ]
  },
  {
   "cell_type": "code",
   "execution_count": 6,
   "metadata": {},
   "outputs": [
    {
     "name": "stderr",
     "output_type": "stream",
     "text": [
      "INFO:numexpr.utils:NumExpr defaulting to 2 threads.\n"
     ]
    },
    {
     "data": {
      "text/plain": [
       "<fbprophet.forecaster.Prophet at 0x13333946108>"
      ]
     },
     "execution_count": 6,
     "metadata": {},
     "output_type": "execute_result"
    }
   ],
   "source": [
    "model.fit(df_confirmed)"
   ]
  },
  {
   "cell_type": "markdown",
   "metadata": {},
   "source": [
    "### 3. Creating Dataframe for the Coming Days"
   ]
  },
  {
   "cell_type": "code",
   "execution_count": 7,
   "metadata": {},
   "outputs": [],
   "source": [
    "# Forecasting upto 31 December 2020\n",
    "\n",
    "forecast = model.make_future_dataframe(periods=7)"
   ]
  },
  {
   "cell_type": "code",
   "execution_count": 8,
   "metadata": {},
   "outputs": [
    {
     "data": {
      "text/html": [
       "<div>\n",
       "<style scoped>\n",
       "    .dataframe tbody tr th:only-of-type {\n",
       "        vertical-align: middle;\n",
       "    }\n",
       "\n",
       "    .dataframe tbody tr th {\n",
       "        vertical-align: top;\n",
       "    }\n",
       "\n",
       "    .dataframe thead th {\n",
       "        text-align: right;\n",
       "    }\n",
       "</style>\n",
       "<table border=\"1\" class=\"dataframe\">\n",
       "  <thead>\n",
       "    <tr style=\"text-align: right;\">\n",
       "      <th></th>\n",
       "      <th>ds</th>\n",
       "    </tr>\n",
       "  </thead>\n",
       "  <tbody>\n",
       "    <tr>\n",
       "      <th>172</th>\n",
       "      <td>2020-12-11</td>\n",
       "    </tr>\n",
       "    <tr>\n",
       "      <th>173</th>\n",
       "      <td>2020-12-12</td>\n",
       "    </tr>\n",
       "    <tr>\n",
       "      <th>174</th>\n",
       "      <td>2020-12-13</td>\n",
       "    </tr>\n",
       "    <tr>\n",
       "      <th>175</th>\n",
       "      <td>2020-12-14</td>\n",
       "    </tr>\n",
       "    <tr>\n",
       "      <th>176</th>\n",
       "      <td>2020-12-15</td>\n",
       "    </tr>\n",
       "  </tbody>\n",
       "</table>\n",
       "</div>"
      ],
      "text/plain": [
       "            ds\n",
       "172 2020-12-11\n",
       "173 2020-12-12\n",
       "174 2020-12-13\n",
       "175 2020-12-14\n",
       "176 2020-12-15"
      ]
     },
     "execution_count": 8,
     "metadata": {},
     "output_type": "execute_result"
    }
   ],
   "source": [
    "forecast.tail(5)"
   ]
  },
  {
   "cell_type": "markdown",
   "metadata": {},
   "source": [
    "### 4. Forecasting "
   ]
  },
  {
   "cell_type": "code",
   "execution_count": 9,
   "metadata": {},
   "outputs": [],
   "source": [
    "forecast = model.predict(forecast)"
   ]
  },
  {
   "cell_type": "code",
   "execution_count": 10,
   "metadata": {},
   "outputs": [
    {
     "data": {
      "text/html": [
       "<div>\n",
       "<style scoped>\n",
       "    .dataframe tbody tr th:only-of-type {\n",
       "        vertical-align: middle;\n",
       "    }\n",
       "\n",
       "    .dataframe tbody tr th {\n",
       "        vertical-align: top;\n",
       "    }\n",
       "\n",
       "    .dataframe thead th {\n",
       "        text-align: right;\n",
       "    }\n",
       "</style>\n",
       "<table border=\"1\" class=\"dataframe\">\n",
       "  <thead>\n",
       "    <tr style=\"text-align: right;\">\n",
       "      <th></th>\n",
       "      <th>ds</th>\n",
       "      <th>trend</th>\n",
       "      <th>yhat_lower</th>\n",
       "      <th>yhat_upper</th>\n",
       "      <th>trend_lower</th>\n",
       "      <th>trend_upper</th>\n",
       "      <th>additive_terms</th>\n",
       "      <th>additive_terms_lower</th>\n",
       "      <th>additive_terms_upper</th>\n",
       "      <th>daily</th>\n",
       "      <th>...</th>\n",
       "      <th>weekly</th>\n",
       "      <th>weekly_lower</th>\n",
       "      <th>weekly_upper</th>\n",
       "      <th>yearly</th>\n",
       "      <th>yearly_lower</th>\n",
       "      <th>yearly_upper</th>\n",
       "      <th>multiplicative_terms</th>\n",
       "      <th>multiplicative_terms_lower</th>\n",
       "      <th>multiplicative_terms_upper</th>\n",
       "      <th>yhat</th>\n",
       "    </tr>\n",
       "  </thead>\n",
       "  <tbody>\n",
       "    <tr>\n",
       "      <th>172</th>\n",
       "      <td>2020-12-11</td>\n",
       "      <td>476779.856795</td>\n",
       "      <td>40220.299011</td>\n",
       "      <td>555451.487850</td>\n",
       "      <td>476779.856720</td>\n",
       "      <td>476779.856856</td>\n",
       "      <td>-178114.495218</td>\n",
       "      <td>-178114.495218</td>\n",
       "      <td>-178114.495218</td>\n",
       "      <td>-76102.467319</td>\n",
       "      <td>...</td>\n",
       "      <td>-8209.278124</td>\n",
       "      <td>-8209.278124</td>\n",
       "      <td>-8209.278124</td>\n",
       "      <td>-93802.749776</td>\n",
       "      <td>-93802.749776</td>\n",
       "      <td>-93802.749776</td>\n",
       "      <td>0.0</td>\n",
       "      <td>0.0</td>\n",
       "      <td>0.0</td>\n",
       "      <td>298665.361576</td>\n",
       "    </tr>\n",
       "    <tr>\n",
       "      <th>173</th>\n",
       "      <td>2020-12-12</td>\n",
       "      <td>478225.523830</td>\n",
       "      <td>77022.387573</td>\n",
       "      <td>590376.460098</td>\n",
       "      <td>478225.523707</td>\n",
       "      <td>478225.523934</td>\n",
       "      <td>-139577.583272</td>\n",
       "      <td>-139577.583272</td>\n",
       "      <td>-139577.583272</td>\n",
       "      <td>-76102.467319</td>\n",
       "      <td>...</td>\n",
       "      <td>-1036.145152</td>\n",
       "      <td>-1036.145152</td>\n",
       "      <td>-1036.145152</td>\n",
       "      <td>-62438.970801</td>\n",
       "      <td>-62438.970801</td>\n",
       "      <td>-62438.970801</td>\n",
       "      <td>0.0</td>\n",
       "      <td>0.0</td>\n",
       "      <td>0.0</td>\n",
       "      <td>338647.940558</td>\n",
       "    </tr>\n",
       "    <tr>\n",
       "      <th>174</th>\n",
       "      <td>2020-12-13</td>\n",
       "      <td>479671.190865</td>\n",
       "      <td>113553.860337</td>\n",
       "      <td>631878.409119</td>\n",
       "      <td>479671.190693</td>\n",
       "      <td>479671.191005</td>\n",
       "      <td>-103873.172736</td>\n",
       "      <td>-103873.172736</td>\n",
       "      <td>-103873.172736</td>\n",
       "      <td>-76102.467319</td>\n",
       "      <td>...</td>\n",
       "      <td>3285.504537</td>\n",
       "      <td>3285.504537</td>\n",
       "      <td>3285.504537</td>\n",
       "      <td>-31056.209954</td>\n",
       "      <td>-31056.209954</td>\n",
       "      <td>-31056.209954</td>\n",
       "      <td>0.0</td>\n",
       "      <td>0.0</td>\n",
       "      <td>0.0</td>\n",
       "      <td>375798.018129</td>\n",
       "    </tr>\n",
       "    <tr>\n",
       "      <th>175</th>\n",
       "      <td>2020-12-14</td>\n",
       "      <td>481116.857900</td>\n",
       "      <td>144691.342523</td>\n",
       "      <td>681539.177762</td>\n",
       "      <td>481116.857671</td>\n",
       "      <td>481116.858085</td>\n",
       "      <td>-83069.393775</td>\n",
       "      <td>-83069.393775</td>\n",
       "      <td>-83069.393775</td>\n",
       "      <td>-76102.467319</td>\n",
       "      <td>...</td>\n",
       "      <td>-6823.599518</td>\n",
       "      <td>-6823.599518</td>\n",
       "      <td>-6823.599518</td>\n",
       "      <td>-143.326938</td>\n",
       "      <td>-143.326938</td>\n",
       "      <td>-143.326938</td>\n",
       "      <td>0.0</td>\n",
       "      <td>0.0</td>\n",
       "      <td>0.0</td>\n",
       "      <td>398047.464125</td>\n",
       "    </tr>\n",
       "    <tr>\n",
       "      <th>176</th>\n",
       "      <td>2020-12-15</td>\n",
       "      <td>482562.524935</td>\n",
       "      <td>173638.566836</td>\n",
       "      <td>710382.216137</td>\n",
       "      <td>482562.524659</td>\n",
       "      <td>482562.525171</td>\n",
       "      <td>-32945.617431</td>\n",
       "      <td>-32945.617431</td>\n",
       "      <td>-32945.617431</td>\n",
       "      <td>-76102.467319</td>\n",
       "      <td>...</td>\n",
       "      <td>13313.813254</td>\n",
       "      <td>13313.813254</td>\n",
       "      <td>13313.813254</td>\n",
       "      <td>29843.036635</td>\n",
       "      <td>29843.036635</td>\n",
       "      <td>29843.036635</td>\n",
       "      <td>0.0</td>\n",
       "      <td>0.0</td>\n",
       "      <td>0.0</td>\n",
       "      <td>449616.907504</td>\n",
       "    </tr>\n",
       "  </tbody>\n",
       "</table>\n",
       "<p>5 rows × 22 columns</p>\n",
       "</div>"
      ],
      "text/plain": [
       "            ds          trend     yhat_lower     yhat_upper    trend_lower  \\\n",
       "172 2020-12-11  476779.856795   40220.299011  555451.487850  476779.856720   \n",
       "173 2020-12-12  478225.523830   77022.387573  590376.460098  478225.523707   \n",
       "174 2020-12-13  479671.190865  113553.860337  631878.409119  479671.190693   \n",
       "175 2020-12-14  481116.857900  144691.342523  681539.177762  481116.857671   \n",
       "176 2020-12-15  482562.524935  173638.566836  710382.216137  482562.524659   \n",
       "\n",
       "       trend_upper  additive_terms  additive_terms_lower  \\\n",
       "172  476779.856856  -178114.495218        -178114.495218   \n",
       "173  478225.523934  -139577.583272        -139577.583272   \n",
       "174  479671.191005  -103873.172736        -103873.172736   \n",
       "175  481116.858085   -83069.393775         -83069.393775   \n",
       "176  482562.525171   -32945.617431         -32945.617431   \n",
       "\n",
       "     additive_terms_upper         daily  ...        weekly  weekly_lower  \\\n",
       "172        -178114.495218 -76102.467319  ...  -8209.278124  -8209.278124   \n",
       "173        -139577.583272 -76102.467319  ...  -1036.145152  -1036.145152   \n",
       "174        -103873.172736 -76102.467319  ...   3285.504537   3285.504537   \n",
       "175         -83069.393775 -76102.467319  ...  -6823.599518  -6823.599518   \n",
       "176         -32945.617431 -76102.467319  ...  13313.813254  13313.813254   \n",
       "\n",
       "     weekly_upper        yearly  yearly_lower  yearly_upper  \\\n",
       "172  -8209.278124 -93802.749776 -93802.749776 -93802.749776   \n",
       "173  -1036.145152 -62438.970801 -62438.970801 -62438.970801   \n",
       "174   3285.504537 -31056.209954 -31056.209954 -31056.209954   \n",
       "175  -6823.599518   -143.326938   -143.326938   -143.326938   \n",
       "176  13313.813254  29843.036635  29843.036635  29843.036635   \n",
       "\n",
       "     multiplicative_terms  multiplicative_terms_lower  \\\n",
       "172                   0.0                         0.0   \n",
       "173                   0.0                         0.0   \n",
       "174                   0.0                         0.0   \n",
       "175                   0.0                         0.0   \n",
       "176                   0.0                         0.0   \n",
       "\n",
       "     multiplicative_terms_upper           yhat  \n",
       "172                         0.0  298665.361576  \n",
       "173                         0.0  338647.940558  \n",
       "174                         0.0  375798.018129  \n",
       "175                         0.0  398047.464125  \n",
       "176                         0.0  449616.907504  \n",
       "\n",
       "[5 rows x 22 columns]"
      ]
     },
     "execution_count": 10,
     "metadata": {},
     "output_type": "execute_result"
    }
   ],
   "source": [
    "forecast.tail(5)"
   ]
  },
  {
   "cell_type": "markdown",
   "metadata": {},
   "source": [
    "We need to focus on the columns 'ds', 'yhat', 'yhat_lower', and 'yhat_upper'\n",
    "\n",
    "- yhat is the predicted value\n",
    "- yhat_lower is the lower limit of yhat\n",
    "- yhat_upper is the upper limit of yhat"
   ]
  },
  {
   "cell_type": "code",
   "execution_count": 11,
   "metadata": {},
   "outputs": [
    {
     "data": {
      "text/html": [
       "<div>\n",
       "<style scoped>\n",
       "    .dataframe tbody tr th:only-of-type {\n",
       "        vertical-align: middle;\n",
       "    }\n",
       "\n",
       "    .dataframe tbody tr th {\n",
       "        vertical-align: top;\n",
       "    }\n",
       "\n",
       "    .dataframe thead th {\n",
       "        text-align: right;\n",
       "    }\n",
       "</style>\n",
       "<table border=\"1\" class=\"dataframe\">\n",
       "  <thead>\n",
       "    <tr style=\"text-align: right;\">\n",
       "      <th></th>\n",
       "      <th>ds</th>\n",
       "      <th>yhat</th>\n",
       "      <th>yhat_lower</th>\n",
       "      <th>yhat_upper</th>\n",
       "    </tr>\n",
       "  </thead>\n",
       "  <tbody>\n",
       "    <tr>\n",
       "      <th>0</th>\n",
       "      <td>2020-01-04</td>\n",
       "      <td>130749.471479</td>\n",
       "      <td>-132164.719808</td>\n",
       "      <td>402315.648495</td>\n",
       "    </tr>\n",
       "    <tr>\n",
       "      <th>1</th>\n",
       "      <td>2020-01-05</td>\n",
       "      <td>135393.774473</td>\n",
       "      <td>-121125.954064</td>\n",
       "      <td>406313.801805</td>\n",
       "    </tr>\n",
       "    <tr>\n",
       "      <th>2</th>\n",
       "      <td>2020-01-06</td>\n",
       "      <td>126006.428337</td>\n",
       "      <td>-144076.624411</td>\n",
       "      <td>384366.334647</td>\n",
       "    </tr>\n",
       "    <tr>\n",
       "      <th>3</th>\n",
       "      <td>2020-01-07</td>\n",
       "      <td>147371.891618</td>\n",
       "      <td>-106691.523059</td>\n",
       "      <td>425879.101610</td>\n",
       "    </tr>\n",
       "    <tr>\n",
       "      <th>4</th>\n",
       "      <td>2020-01-08</td>\n",
       "      <td>154971.574306</td>\n",
       "      <td>-99226.359593</td>\n",
       "      <td>420949.783040</td>\n",
       "    </tr>\n",
       "    <tr>\n",
       "      <th>...</th>\n",
       "      <td>...</td>\n",
       "      <td>...</td>\n",
       "      <td>...</td>\n",
       "      <td>...</td>\n",
       "    </tr>\n",
       "    <tr>\n",
       "      <th>172</th>\n",
       "      <td>2020-12-11</td>\n",
       "      <td>298665.361576</td>\n",
       "      <td>40220.299011</td>\n",
       "      <td>555451.487850</td>\n",
       "    </tr>\n",
       "    <tr>\n",
       "      <th>173</th>\n",
       "      <td>2020-12-12</td>\n",
       "      <td>338647.940558</td>\n",
       "      <td>77022.387573</td>\n",
       "      <td>590376.460098</td>\n",
       "    </tr>\n",
       "    <tr>\n",
       "      <th>174</th>\n",
       "      <td>2020-12-13</td>\n",
       "      <td>375798.018129</td>\n",
       "      <td>113553.860337</td>\n",
       "      <td>631878.409119</td>\n",
       "    </tr>\n",
       "    <tr>\n",
       "      <th>175</th>\n",
       "      <td>2020-12-14</td>\n",
       "      <td>398047.464125</td>\n",
       "      <td>144691.342523</td>\n",
       "      <td>681539.177762</td>\n",
       "    </tr>\n",
       "    <tr>\n",
       "      <th>176</th>\n",
       "      <td>2020-12-15</td>\n",
       "      <td>449616.907504</td>\n",
       "      <td>173638.566836</td>\n",
       "      <td>710382.216137</td>\n",
       "    </tr>\n",
       "  </tbody>\n",
       "</table>\n",
       "<p>177 rows × 4 columns</p>\n",
       "</div>"
      ],
      "text/plain": [
       "            ds           yhat     yhat_lower     yhat_upper\n",
       "0   2020-01-04  130749.471479 -132164.719808  402315.648495\n",
       "1   2020-01-05  135393.774473 -121125.954064  406313.801805\n",
       "2   2020-01-06  126006.428337 -144076.624411  384366.334647\n",
       "3   2020-01-07  147371.891618 -106691.523059  425879.101610\n",
       "4   2020-01-08  154971.574306  -99226.359593  420949.783040\n",
       "..         ...            ...            ...            ...\n",
       "172 2020-12-11  298665.361576   40220.299011  555451.487850\n",
       "173 2020-12-12  338647.940558   77022.387573  590376.460098\n",
       "174 2020-12-13  375798.018129  113553.860337  631878.409119\n",
       "175 2020-12-14  398047.464125  144691.342523  681539.177762\n",
       "176 2020-12-15  449616.907504  173638.566836  710382.216137\n",
       "\n",
       "[177 rows x 4 columns]"
      ]
     },
     "execution_count": 11,
     "metadata": {},
     "output_type": "execute_result"
    }
   ],
   "source": [
    "forecast[['ds', 'yhat', 'yhat_lower', 'yhat_upper']]"
   ]
  },
  {
   "cell_type": "markdown",
   "metadata": {},
   "source": [
    "### 5. Plotting Confirmed Cases"
   ]
  },
  {
   "cell_type": "code",
   "execution_count": 15,
   "metadata": {},
   "outputs": [
    {
     "data": {
      "image/png": "[encoded data removed]",
      "text/plain": [
       "<Figure size 720x432 with 1 Axes>"
      ]
     },
     "metadata": {},
     "output_type": "display_data"
    },
    {
     "data": {
      "image/png": "[encoded data removed]",
      "text/plain": [
       "<Figure size 648x864 with 4 Axes>"
      ]
     },
     "metadata": {},
     "output_type": "display_data"
    }
   ],
   "source": [
    "plot1 = model.plot(forecast)\n",
    "plot2 = model.plot_components(forecast)\n",
    "plt.savefig('fb_imga.png')\n"
   ]
  },
  {
   "cell_type": "markdown",
   "metadata": {},
   "source": [
    "- Black dots are the actual present values\n",
    "- Blue line are the forecasted values"
   ]
  },
  {
   "cell_type": "code",
   "execution_count": 17,
   "metadata": {},
   "outputs": [],
   "source": [
    "# Finding Points/Dates of Change\n",
    "\n",
    "from fbprophet.plot import add_changepoints_to_plot"
   ]
  },
  {
   "cell_type": "code",
   "execution_count": 18,
   "metadata": {},
   "outputs": [
    {
     "data": {
      "image/png": "[encoded data removed]",
      "text/plain": [
       "<Figure size 720x432 with 1 Axes>"
      ]
     },
     "metadata": {},
     "output_type": "display_data"
    }
   ],
   "source": [
    "plot3 = model.plot(forecast)\n",
    "c = add_changepoints_to_plot(plot3.gca(),model,forecast)\n",
    "plt.savefig('fb_imag2.png')"
   ]
  },
  {
   "cell_type": "markdown",
   "metadata": {},
   "source": [
    "## LSTM Model"
   ]
  },
  {
   "cell_type": "code",
   "execution_count": 15,
   "metadata": {},
   "outputs": [
    {
     "name": "stderr",
     "output_type": "stream",
     "text": [
      "Using TensorFlow backend.\n"
     ]
    }
   ],
   "source": [
    "import math\n",
    "import numpy as np\n",
    "import pandas as pd\n",
    "from sklearn.preprocessing import MinMaxScaler\n",
    "from keras.models import Sequential\n",
    "from keras.layers import Dense,LSTM\n",
    "import matplotlib.pyplot as plt\n",
    "from sklearn.metrics import r2_score"
   ]
  },
  {
   "cell_type": "code",
   "execution_count": 16,
   "metadata": {},
   "outputs": [
    {
     "data": {
      "text/html": [
       "<div>\n",
       "<style scoped>\n",
       "    .dataframe tbody tr th:only-of-type {\n",
       "        vertical-align: middle;\n",
       "    }\n",
       "\n",
       "    .dataframe tbody tr th {\n",
       "        vertical-align: top;\n",
       "    }\n",
       "\n",
       "    .dataframe thead th {\n",
       "        text-align: right;\n",
       "    }\n",
       "</style>\n",
       "<table border=\"1\" class=\"dataframe\">\n",
       "  <thead>\n",
       "    <tr style=\"text-align: right;\">\n",
       "      <th></th>\n",
       "      <th>date</th>\n",
       "      <th>total</th>\n",
       "    </tr>\n",
       "  </thead>\n",
       "  <tbody>\n",
       "    <tr>\n",
       "      <th>0</th>\n",
       "      <td>2020-05-03</td>\n",
       "      <td>1</td>\n",
       "    </tr>\n",
       "    <tr>\n",
       "      <th>1</th>\n",
       "      <td>2020-07-03</td>\n",
       "      <td>2</td>\n",
       "    </tr>\n",
       "    <tr>\n",
       "      <th>2</th>\n",
       "      <td>2020-08-03</td>\n",
       "      <td>3</td>\n",
       "    </tr>\n",
       "  </tbody>\n",
       "</table>\n",
       "</div>"
      ],
      "text/plain": [
       "        date  total\n",
       "0 2020-05-03      1\n",
       "1 2020-07-03      2\n",
       "2 2020-08-03      3"
      ]
     },
     "execution_count": 16,
     "metadata": {},
     "output_type": "execute_result"
    }
   ],
   "source": [
    "data = pd.read_csv(r'C:\\Users\\cheml\\Documents\\Skul\\Datasets\\covid19za-master\\data\\covid19za_provincial_cumulative_timeline_confirmed.csv')\n",
    "data['date'] = pd.to_datetime(data['date'])\n",
    "df = data[['date','total']]\n",
    "df.head(3)"
   ]
  },
  {
   "cell_type": "code",
   "execution_count": 21,
   "metadata": {},
   "outputs": [],
   "source": [
    "data = df.filter(['total'])"
   ]
  },
  {
   "cell_type": "code",
   "execution_count": 22,
   "metadata": {},
   "outputs": [],
   "source": [
    "dataset = data.values"
   ]
  },
  {
   "cell_type": "code",
   "execution_count": 23,
   "metadata": {},
   "outputs": [
    {
     "data": {
      "text/plain": [
       "136"
      ]
     },
     "execution_count": 23,
     "metadata": {},
     "output_type": "execute_result"
    }
   ],
   "source": [
    "training_data_len = math.ceil(len(dataset) * 0.8)\n",
    "training_data_len"
   ]
  },
  {
   "cell_type": "code",
   "execution_count": 24,
   "metadata": {},
   "outputs": [],
   "source": [
    "scaler = MinMaxScaler(feature_range=(0,1))\n",
    "scaled_data = scaler.fit_transform(dataset)"
   ]
  },
  {
   "cell_type": "code",
   "execution_count": 25,
   "metadata": {},
   "outputs": [
    {
     "data": {
      "text/plain": [
       "array([[0.00000000e+00],\n",
       "       [1.63995723e-06],\n",
       "       [3.27991446e-06],\n",
       "       [9.83974338e-06],\n",
       "       [1.96794868e-05],\n",
       "       [2.45993584e-05],\n",
       "       [3.77190163e-05],\n",
       "       [6.06784175e-05],\n",
       "       [8.19978615e-05],\n",
       "       [1.00037391e-04],\n",
       "       [1.37756407e-04],\n",
       "       [1.88595081e-04],\n",
       "       [2.44353627e-04],\n",
       "       [3.29631403e-04],\n",
       "       [3.91949778e-04],\n",
       "       [4.47708324e-04],\n",
       "       [6.57622849e-04],\n",
       "       [9.06896348e-04],\n",
       "       [1.16108972e-03],\n",
       "       [1.51860039e-03],\n",
       "       [1.91711000e-03],\n",
       "       [1.94498927e-03],\n",
       "       [2.09750530e-03],\n",
       "       [2.17294333e-03],\n",
       "       [2.21722217e-03],\n",
       "       [2.26150102e-03],\n",
       "       [2.39597751e-03],\n",
       "       [2.46649567e-03],\n",
       "       [2.59769225e-03],\n",
       "       [2.71248926e-03],\n",
       "       [2.76332793e-03],\n",
       "       [2.86664524e-03],\n",
       "       [3.02408113e-03],\n",
       "       [3.17003733e-03],\n",
       "       [3.28319437e-03],\n",
       "       [3.32419331e-03],\n",
       "       [3.56198710e-03],\n",
       "       [3.72434287e-03],\n",
       "       [3.95885675e-03],\n",
       "       [4.10809286e-03],\n",
       "       [4.27044863e-03],\n",
       "       [4.56236101e-03],\n",
       "       [4.97399028e-03],\n",
       "       [5.17734497e-03],\n",
       "       [5.41021890e-03],\n",
       "       [5.68081184e-03],\n",
       "       [5.95960457e-03],\n",
       "       [6.48111097e-03],\n",
       "       [6.91897955e-03],\n",
       "       [7.15021352e-03],\n",
       "       [7.45360561e-03],\n",
       "       [7.85867505e-03],\n",
       "       [8.19158636e-03],\n",
       "       [8.77213122e-03],\n",
       "       [9.25919852e-03],\n",
       "       [9.75774552e-03],\n",
       "       [1.03891291e-02],\n",
       "       [1.11221899e-02],\n",
       "       [1.18388512e-02],\n",
       "       [1.24161162e-02],\n",
       "       [1.28031461e-02],\n",
       "       [1.34984880e-02],\n",
       "       [1.45857796e-02],\n",
       "       [1.54467571e-02],\n",
       "       [1.64225317e-02],\n",
       "       [1.74671845e-02],\n",
       "       [1.86118746e-02],\n",
       "       [1.97992036e-02],\n",
       "       [2.08897752e-02],\n",
       "       [2.21771416e-02],\n",
       "       [2.35399461e-02],\n",
       "       [2.54422965e-02],\n",
       "       [2.69477772e-02],\n",
       "       [2.82056244e-02],\n",
       "       [2.95225101e-02],\n",
       "       [3.13822216e-02],\n",
       "       [3.30024993e-02],\n",
       "       [3.49999672e-02],\n",
       "       [3.70335142e-02],\n",
       "       [3.87259500e-02],\n",
       "       [3.97902823e-02],\n",
       "       [4.25339307e-02],\n",
       "       [4.49381080e-02],\n",
       "       [4.79507094e-02],\n",
       "       [5.07829156e-02],\n",
       "       [5.35970822e-02],\n",
       "       [5.63423706e-02],\n",
       "       [5.87285084e-02],\n",
       "       [6.15377551e-02],\n",
       "       [6.68954954e-02],\n",
       "       [7.12282624e-02],\n",
       "       [7.53921138e-02],\n",
       "       [7.91836949e-02],\n",
       "       [8.34377439e-02],\n",
       "       [8.69013336e-02],\n",
       "       [9.08864297e-02],\n",
       "       [9.60473751e-02],\n",
       "       [1.01555991e-01],\n",
       "       [1.07802589e-01],\n",
       "       [1.14857685e-01],\n",
       "       [1.20589335e-01],\n",
       "       [1.25182855e-01],\n",
       "       [1.31870601e-01],\n",
       "       [1.37574372e-01],\n",
       "       [1.43847208e-01],\n",
       "       [1.51991236e-01],\n",
       "       [1.59569478e-01],\n",
       "       [1.66601615e-01],\n",
       "       [1.74010942e-01],\n",
       "       [1.83339019e-01],\n",
       "       [1.94128297e-01],\n",
       "       [2.04320631e-01],\n",
       "       [2.16144723e-01],\n",
       "       [2.26532212e-01],\n",
       "       [2.36585150e-01],\n",
       "       [2.47974653e-01],\n",
       "       [2.61297665e-01],\n",
       "       [2.75611212e-01],\n",
       "       [2.90474144e-01],\n",
       "       [3.08272600e-01],\n",
       "       [3.22659945e-01],\n",
       "       [3.37372001e-01],\n",
       "       [3.53991328e-01],\n",
       "       [3.68439351e-01],\n",
       "       [3.90864126e-01],\n",
       "       [4.11114318e-01],\n",
       "       [4.33248821e-01],\n",
       "       [4.53023425e-01],\n",
       "       [4.71971491e-01],\n",
       "       [4.89184482e-01],\n",
       "       [5.10105416e-01],\n",
       "       [5.31706933e-01],\n",
       "       [5.53638081e-01],\n",
       "       [5.75424913e-01],\n",
       "       [5.97480698e-01],\n",
       "       [6.12732300e-01],\n",
       "       [6.26130751e-01],\n",
       "       [6.47696188e-01],\n",
       "       [6.69186188e-01],\n",
       "       [6.92053751e-01],\n",
       "       [7.12067789e-01],\n",
       "       [7.30489429e-01],\n",
       "       [7.42126565e-01],\n",
       "       [7.53986736e-01],\n",
       "       [7.72619930e-01],\n",
       "       [7.90734898e-01],\n",
       "       [8.08797387e-01],\n",
       "       [8.25372434e-01],\n",
       "       [8.38811884e-01],\n",
       "       [8.47629934e-01],\n",
       "       [8.54937583e-01],\n",
       "       [8.68973977e-01],\n",
       "       [8.82597102e-01],\n",
       "       [8.94555670e-01],\n",
       "       [9.07203020e-01],\n",
       "       [9.18141535e-01],\n",
       "       [9.24274975e-01],\n",
       "       [9.28392908e-01],\n",
       "       [9.33001187e-01],\n",
       "       [9.39472459e-01],\n",
       "       [9.49763190e-01],\n",
       "       [9.57164317e-01],\n",
       "       [9.63219039e-01],\n",
       "       [9.67386171e-01],\n",
       "       [9.71089194e-01],\n",
       "       [9.77511267e-01],\n",
       "       [9.83874301e-01],\n",
       "       [9.89446875e-01],\n",
       "       [9.95526197e-01],\n",
       "       [1.00000000e+00]])"
      ]
     },
     "execution_count": 25,
     "metadata": {},
     "output_type": "execute_result"
    }
   ],
   "source": [
    "scaled_data"
   ]
  },
  {
   "cell_type": "code",
   "execution_count": 26,
   "metadata": {},
   "outputs": [
    {
     "name": "stdout",
     "output_type": "stream",
     "text": [
      "[array([0.00000000e+00, 1.63995723e-06, 3.27991446e-06, 9.83974338e-06,\n",
      "       1.96794868e-05, 2.45993584e-05, 3.77190163e-05, 6.06784175e-05,\n",
      "       8.19978615e-05, 1.00037391e-04])]\n",
      "[0.00013775640731289725]\n",
      "\n"
     ]
    }
   ],
   "source": [
    "train_data = scaled_data[0:training_data_len, :]\n",
    "x_train = []\n",
    "y_train = []\n",
    "\n",
    "for i in range(10, len(train_data)):\n",
    "  x_train.append(train_data[i-10:i, 0])\n",
    "  y_train.append(train_data[i, 0])\n",
    "  if i<= 10:\n",
    "    print(x_train)\n",
    "    print(y_train)\n",
    "    print()"
   ]
  },
  {
   "cell_type": "code",
   "execution_count": 27,
   "metadata": {},
   "outputs": [],
   "source": [
    "x_train, y_train = np.array(x_train), np.array(y_train)"
   ]
  },
  {
   "cell_type": "code",
   "execution_count": 28,
   "metadata": {},
   "outputs": [
    {
     "data": {
      "text/plain": [
       "(126, 10, 1)"
      ]
     },
     "execution_count": 28,
     "metadata": {},
     "output_type": "execute_result"
    }
   ],
   "source": [
    "x_train = np.reshape(x_train, (x_train.shape[0], x_train.shape[1], 1))\n",
    "x_train.shape"
   ]
  },
  {
   "cell_type": "code",
   "execution_count": 29,
   "metadata": {},
   "outputs": [],
   "source": [
    "model = Sequential()\n",
    "model.add(LSTM(50, return_sequences=True, input_shape=(x_train.shape[1], 1)))\n",
    "model.add(LSTM(50, return_sequences=False))\n",
    "model.add(Dense(25))\n",
    "model.add(Dense(1))"
   ]
  },
  {
   "cell_type": "code",
   "execution_count": 30,
   "metadata": {},
   "outputs": [],
   "source": [
    "#compile the model\n",
    "model.compile(optimizer='adam', loss='mean_squared_error')"
   ]
  },
  {
   "cell_type": "code",
   "execution_count": 31,
   "metadata": {},
   "outputs": [
    {
     "name": "stdout",
     "output_type": "stream",
     "text": [
      "Epoch 1/50\n",
      "126/126 [==============================] - 14s 109ms/step - loss: 0.0035\n",
      "Epoch 2/50\n",
      "126/126 [==============================] - 5s 42ms/step - loss: 4.5629e-04\n",
      "Epoch 3/50\n",
      "126/126 [==============================] - 7s 58ms/step - loss: 1.0818e-04\n",
      "Epoch 4/50\n",
      "126/126 [==============================] - 4s 34ms/step - loss: 2.6308e-04\n",
      "Epoch 5/50\n",
      "126/126 [==============================] - 5s 41ms/step - loss: 2.0922e-05\n",
      "Epoch 6/50\n",
      "126/126 [==============================] - 4s 35ms/step - loss: 1.5656e-04:   - ETA: 1s - loss: 2.7663e-0 - ETA: 1s \n",
      "Epoch 7/50\n",
      "126/126 [==============================] - 4s 30ms/step - loss: 4.8489e-05\n",
      "Epoch 8/50\n",
      "126/126 [==============================] - 4s 31ms/step - loss: 1.2548e-04\n",
      "Epoch 9/50\n",
      "126/126 [==============================] - ETA: 0s - loss: 2.1484e-0 - 5s 43ms/step - loss: 2.1163e-04\n",
      "Epoch 10/50\n",
      "126/126 [==============================] - 5s 39ms/step - loss: 3.7881e-05\n",
      "Epoch 11/50\n",
      "126/126 [==============================] - 4s 33ms/step - loss: 0.0013\n",
      "Epoch 12/50\n",
      "126/126 [==============================] - 5s 42ms/step - loss: 1.4406e-04\n",
      "Epoch 13/50\n",
      "126/126 [==============================] - 4s 34ms/step - loss: 2.1273e-05: 0s - loss: 1.9\n",
      "Epoch 14/50\n",
      "126/126 [==============================] - 4s 31ms/step - loss: 2.7265e-05\n",
      "Epoch 15/50\n",
      "126/126 [==============================] - 4s 32ms/step - loss: 9.5071e-05\n",
      "Epoch 16/50\n",
      "126/126 [==============================] - 6s 44ms/step - loss: 2.1403e-05: 0s - loss: 2.05\n",
      "Epoch 17/50\n",
      "126/126 [==============================] - 5s 38ms/step - loss: 2.6709e-05\n",
      "Epoch 18/50\n",
      "126/126 [==============================] - 4s 32ms/step - loss: 0.0010\n",
      "Epoch 19/50\n",
      "126/126 [==============================] - 5s 42ms/step - loss: 1.0043e-04\n",
      "Epoch 20/50\n",
      "126/126 [==============================] - 4s 34ms/step - loss: 1.7979e-04\n",
      "Epoch 21/50\n",
      "126/126 [==============================] - 4s 32ms/step - loss: 1.7469e-04\n",
      "Epoch 22/50\n",
      "126/126 [==============================] - 6s 45ms/step - loss: 1.0856e-04\n",
      "Epoch 23/50\n",
      "126/126 [==============================] - 6s 50ms/step - loss: 2.1286e-05\n",
      "Epoch 24/50\n",
      "126/126 [==============================] - 3s 27ms/step - loss: 4.1454e-04:\n",
      "Epoch 25/50\n",
      "126/126 [==============================] - 4s 28ms/step - loss: 1.3699e-05\n",
      "Epoch 26/50\n",
      "126/126 [==============================] - ETA: 0s - loss: 2.0703e-0 - 4s 32ms/step - loss: 2.0540e-04\n",
      "Epoch 27/50\n",
      "126/126 [==============================] - 6s 50ms/step - loss: 2.3114e-05\n",
      "Epoch 28/50\n",
      "126/126 [==============================] - 4s 29ms/step - loss: 1.0762e-05: 1s \n",
      "Epoch 29/50\n",
      "126/126 [==============================] - 3s 24ms/step - loss: 8.3972e-05\n",
      "Epoch 30/50\n",
      "126/126 [==============================] - 4s 32ms/step - loss: 6.1163e-05\n",
      "Epoch 31/50\n",
      "126/126 [==============================] - 4s 31ms/step - loss: 4.8951e-04\n",
      "Epoch 32/50\n",
      "126/126 [==============================] - 3s 23ms/step - loss: 6.3158e-05\n",
      "Epoch 33/50\n",
      "126/126 [==============================] - 3s 22ms/step - loss: 4.8660e-05\n",
      "Epoch 34/50\n",
      "126/126 [==============================] - 3s 22ms/step - loss: 1.3829e-04\n",
      "Epoch 35/50\n",
      "126/126 [==============================] - 4s 30ms/step - loss: 5.0192e-05\n",
      "Epoch 36/50\n",
      "126/126 [==============================] - 3s 27ms/step - loss: 0.0014\n",
      "Epoch 37/50\n",
      "126/126 [==============================] - 3s 22ms/step - loss: 1.2265e-04\n",
      "Epoch 38/50\n",
      "126/126 [==============================] - 3s 23ms/step - loss: 9.7617e-06: 0s - loss: 9.923\n",
      "Epoch 39/50\n",
      "126/126 [==============================] - 3s 22ms/step - loss: 1.4052e-05\n",
      "Epoch 40/50\n",
      "126/126 [==============================] - 4s 30ms/step - loss: 1.1727e-05\n",
      "Epoch 41/50\n",
      "126/126 [==============================] - 3s 25ms/step - loss: 2.4071e-05: 0s - loss: 1.9471\n",
      "Epoch 42/50\n",
      "126/126 [==============================] - 3s 23ms/step - loss: 1.8364e-05\n",
      "Epoch 43/50\n",
      "126/126 [==============================] - 3s 23ms/step - loss: 8.3873e-05\n",
      "Epoch 44/50\n",
      "126/126 [==============================] - 3s 23ms/step - loss: 2.3717e-05\n",
      "Epoch 45/50\n",
      "126/126 [==============================] - 4s 30ms/step - loss: 6.8747e-05\n",
      "Epoch 46/50\n",
      "126/126 [==============================] - 3s 25ms/step - loss: 4.8956e-04\n",
      "Epoch 47/50\n",
      "126/126 [==============================] - 3s 23ms/step - loss: 4.7981e-05\n",
      "Epoch 48/50\n",
      "126/126 [==============================] - 3s 23ms/step - loss: 1.4193e-05\n",
      "Epoch 49/50\n",
      "126/126 [==============================] - 3s 23ms/step - loss: 3.7246e-05\n",
      "Epoch 50/50\n",
      "126/126 [==============================] - 4s 30ms/step - loss: 1.0038e-05\n"
     ]
    },
    {
     "data": {
      "text/plain": [
       "<keras.callbacks.callbacks.History at 0x287f7f05848>"
      ]
     },
     "execution_count": 31,
     "metadata": {},
     "output_type": "execute_result"
    }
   ],
   "source": [
    "model.fit(x_train,y_train,batch_size=1, epochs=50)"
   ]
  },
  {
   "cell_type": "code",
   "execution_count": 32,
   "metadata": {},
   "outputs": [],
   "source": [
    "test_data = scaled_data[training_data_len-10: , :]\n",
    "x_test = []\n",
    "y_test = dataset[training_data_len:, :]\n",
    "for i in range(10, len(test_data)):\n",
    "  x_test.append(test_data[i-10:i, 0])"
   ]
  },
  {
   "cell_type": "code",
   "execution_count": 33,
   "metadata": {},
   "outputs": [
    {
     "data": {
      "text/plain": [
       "44"
      ]
     },
     "execution_count": 33,
     "metadata": {},
     "output_type": "execute_result"
    }
   ],
   "source": [
    "len(test_data)"
   ]
  },
  {
   "cell_type": "code",
   "execution_count": 34,
   "metadata": {},
   "outputs": [],
   "source": [
    "x_test = np.array(x_test)"
   ]
  },
  {
   "cell_type": "code",
   "execution_count": 35,
   "metadata": {},
   "outputs": [],
   "source": [
    "x_test = np.reshape(x_test, (x_test.shape[0], x_test.shape[1], 1))"
   ]
  },
  {
   "cell_type": "code",
   "execution_count": 36,
   "metadata": {},
   "outputs": [
    {
     "data": {
      "text/plain": [
       "array([[[0.43324882],\n",
       "        [0.45302343],\n",
       "        [0.47197149],\n",
       "        [0.48918448],\n",
       "        [0.51010542],\n",
       "        [0.53170693],\n",
       "        [0.55363808],\n",
       "        [0.57542491],\n",
       "        [0.5974807 ],\n",
       "        [0.6127323 ]],\n",
       "\n",
       "       [[0.45302343],\n",
       "        [0.47197149],\n",
       "        [0.48918448],\n",
       "        [0.51010542],\n",
       "        [0.53170693],\n",
       "        [0.55363808],\n",
       "        [0.57542491],\n",
       "        [0.5974807 ],\n",
       "        [0.6127323 ],\n",
       "        [0.62613075]],\n",
       "\n",
       "       [[0.47197149],\n",
       "        [0.48918448],\n",
       "        [0.51010542],\n",
       "        [0.53170693],\n",
       "        [0.55363808],\n",
       "        [0.57542491],\n",
       "        [0.5974807 ],\n",
       "        [0.6127323 ],\n",
       "        [0.62613075],\n",
       "        [0.64769619]],\n",
       "\n",
       "       [[0.48918448],\n",
       "        [0.51010542],\n",
       "        [0.53170693],\n",
       "        [0.55363808],\n",
       "        [0.57542491],\n",
       "        [0.5974807 ],\n",
       "        [0.6127323 ],\n",
       "        [0.62613075],\n",
       "        [0.64769619],\n",
       "        [0.66918619]],\n",
       "\n",
       "       [[0.51010542],\n",
       "        [0.53170693],\n",
       "        [0.55363808],\n",
       "        [0.57542491],\n",
       "        [0.5974807 ],\n",
       "        [0.6127323 ],\n",
       "        [0.62613075],\n",
       "        [0.64769619],\n",
       "        [0.66918619],\n",
       "        [0.69205375]],\n",
       "\n",
       "       [[0.53170693],\n",
       "        [0.55363808],\n",
       "        [0.57542491],\n",
       "        [0.5974807 ],\n",
       "        [0.6127323 ],\n",
       "        [0.62613075],\n",
       "        [0.64769619],\n",
       "        [0.66918619],\n",
       "        [0.69205375],\n",
       "        [0.71206779]],\n",
       "\n",
       "       [[0.55363808],\n",
       "        [0.57542491],\n",
       "        [0.5974807 ],\n",
       "        [0.6127323 ],\n",
       "        [0.62613075],\n",
       "        [0.64769619],\n",
       "        [0.66918619],\n",
       "        [0.69205375],\n",
       "        [0.71206779],\n",
       "        [0.73048943]],\n",
       "\n",
       "       [[0.57542491],\n",
       "        [0.5974807 ],\n",
       "        [0.6127323 ],\n",
       "        [0.62613075],\n",
       "        [0.64769619],\n",
       "        [0.66918619],\n",
       "        [0.69205375],\n",
       "        [0.71206779],\n",
       "        [0.73048943],\n",
       "        [0.74212657]],\n",
       "\n",
       "       [[0.5974807 ],\n",
       "        [0.6127323 ],\n",
       "        [0.62613075],\n",
       "        [0.64769619],\n",
       "        [0.66918619],\n",
       "        [0.69205375],\n",
       "        [0.71206779],\n",
       "        [0.73048943],\n",
       "        [0.74212657],\n",
       "        [0.75398674]],\n",
       "\n",
       "       [[0.6127323 ],\n",
       "        [0.62613075],\n",
       "        [0.64769619],\n",
       "        [0.66918619],\n",
       "        [0.69205375],\n",
       "        [0.71206779],\n",
       "        [0.73048943],\n",
       "        [0.74212657],\n",
       "        [0.75398674],\n",
       "        [0.77261993]],\n",
       "\n",
       "       [[0.62613075],\n",
       "        [0.64769619],\n",
       "        [0.66918619],\n",
       "        [0.69205375],\n",
       "        [0.71206779],\n",
       "        [0.73048943],\n",
       "        [0.74212657],\n",
       "        [0.75398674],\n",
       "        [0.77261993],\n",
       "        [0.7907349 ]],\n",
       "\n",
       "       [[0.64769619],\n",
       "        [0.66918619],\n",
       "        [0.69205375],\n",
       "        [0.71206779],\n",
       "        [0.73048943],\n",
       "        [0.74212657],\n",
       "        [0.75398674],\n",
       "        [0.77261993],\n",
       "        [0.7907349 ],\n",
       "        [0.80879739]],\n",
       "\n",
       "       [[0.66918619],\n",
       "        [0.69205375],\n",
       "        [0.71206779],\n",
       "        [0.73048943],\n",
       "        [0.74212657],\n",
       "        [0.75398674],\n",
       "        [0.77261993],\n",
       "        [0.7907349 ],\n",
       "        [0.80879739],\n",
       "        [0.82537243]],\n",
       "\n",
       "       [[0.69205375],\n",
       "        [0.71206779],\n",
       "        [0.73048943],\n",
       "        [0.74212657],\n",
       "        [0.75398674],\n",
       "        [0.77261993],\n",
       "        [0.7907349 ],\n",
       "        [0.80879739],\n",
       "        [0.82537243],\n",
       "        [0.83881188]],\n",
       "\n",
       "       [[0.71206779],\n",
       "        [0.73048943],\n",
       "        [0.74212657],\n",
       "        [0.75398674],\n",
       "        [0.77261993],\n",
       "        [0.7907349 ],\n",
       "        [0.80879739],\n",
       "        [0.82537243],\n",
       "        [0.83881188],\n",
       "        [0.84762993]],\n",
       "\n",
       "       [[0.73048943],\n",
       "        [0.74212657],\n",
       "        [0.75398674],\n",
       "        [0.77261993],\n",
       "        [0.7907349 ],\n",
       "        [0.80879739],\n",
       "        [0.82537243],\n",
       "        [0.83881188],\n",
       "        [0.84762993],\n",
       "        [0.85493758]],\n",
       "\n",
       "       [[0.74212657],\n",
       "        [0.75398674],\n",
       "        [0.77261993],\n",
       "        [0.7907349 ],\n",
       "        [0.80879739],\n",
       "        [0.82537243],\n",
       "        [0.83881188],\n",
       "        [0.84762993],\n",
       "        [0.85493758],\n",
       "        [0.86897398]],\n",
       "\n",
       "       [[0.75398674],\n",
       "        [0.77261993],\n",
       "        [0.7907349 ],\n",
       "        [0.80879739],\n",
       "        [0.82537243],\n",
       "        [0.83881188],\n",
       "        [0.84762993],\n",
       "        [0.85493758],\n",
       "        [0.86897398],\n",
       "        [0.8825971 ]],\n",
       "\n",
       "       [[0.77261993],\n",
       "        [0.7907349 ],\n",
       "        [0.80879739],\n",
       "        [0.82537243],\n",
       "        [0.83881188],\n",
       "        [0.84762993],\n",
       "        [0.85493758],\n",
       "        [0.86897398],\n",
       "        [0.8825971 ],\n",
       "        [0.89455567]],\n",
       "\n",
       "       [[0.7907349 ],\n",
       "        [0.80879739],\n",
       "        [0.82537243],\n",
       "        [0.83881188],\n",
       "        [0.84762993],\n",
       "        [0.85493758],\n",
       "        [0.86897398],\n",
       "        [0.8825971 ],\n",
       "        [0.89455567],\n",
       "        [0.90720302]],\n",
       "\n",
       "       [[0.80879739],\n",
       "        [0.82537243],\n",
       "        [0.83881188],\n",
       "        [0.84762993],\n",
       "        [0.85493758],\n",
       "        [0.86897398],\n",
       "        [0.8825971 ],\n",
       "        [0.89455567],\n",
       "        [0.90720302],\n",
       "        [0.91814153]],\n",
       "\n",
       "       [[0.82537243],\n",
       "        [0.83881188],\n",
       "        [0.84762993],\n",
       "        [0.85493758],\n",
       "        [0.86897398],\n",
       "        [0.8825971 ],\n",
       "        [0.89455567],\n",
       "        [0.90720302],\n",
       "        [0.91814153],\n",
       "        [0.92427497]],\n",
       "\n",
       "       [[0.83881188],\n",
       "        [0.84762993],\n",
       "        [0.85493758],\n",
       "        [0.86897398],\n",
       "        [0.8825971 ],\n",
       "        [0.89455567],\n",
       "        [0.90720302],\n",
       "        [0.91814153],\n",
       "        [0.92427497],\n",
       "        [0.92839291]],\n",
       "\n",
       "       [[0.84762993],\n",
       "        [0.85493758],\n",
       "        [0.86897398],\n",
       "        [0.8825971 ],\n",
       "        [0.89455567],\n",
       "        [0.90720302],\n",
       "        [0.91814153],\n",
       "        [0.92427497],\n",
       "        [0.92839291],\n",
       "        [0.93300119]],\n",
       "\n",
       "       [[0.85493758],\n",
       "        [0.86897398],\n",
       "        [0.8825971 ],\n",
       "        [0.89455567],\n",
       "        [0.90720302],\n",
       "        [0.91814153],\n",
       "        [0.92427497],\n",
       "        [0.92839291],\n",
       "        [0.93300119],\n",
       "        [0.93947246]],\n",
       "\n",
       "       [[0.86897398],\n",
       "        [0.8825971 ],\n",
       "        [0.89455567],\n",
       "        [0.90720302],\n",
       "        [0.91814153],\n",
       "        [0.92427497],\n",
       "        [0.92839291],\n",
       "        [0.93300119],\n",
       "        [0.93947246],\n",
       "        [0.94976319]],\n",
       "\n",
       "       [[0.8825971 ],\n",
       "        [0.89455567],\n",
       "        [0.90720302],\n",
       "        [0.91814153],\n",
       "        [0.92427497],\n",
       "        [0.92839291],\n",
       "        [0.93300119],\n",
       "        [0.93947246],\n",
       "        [0.94976319],\n",
       "        [0.95716432]],\n",
       "\n",
       "       [[0.89455567],\n",
       "        [0.90720302],\n",
       "        [0.91814153],\n",
       "        [0.92427497],\n",
       "        [0.92839291],\n",
       "        [0.93300119],\n",
       "        [0.93947246],\n",
       "        [0.94976319],\n",
       "        [0.95716432],\n",
       "        [0.96321904]],\n",
       "\n",
       "       [[0.90720302],\n",
       "        [0.91814153],\n",
       "        [0.92427497],\n",
       "        [0.92839291],\n",
       "        [0.93300119],\n",
       "        [0.93947246],\n",
       "        [0.94976319],\n",
       "        [0.95716432],\n",
       "        [0.96321904],\n",
       "        [0.96738617]],\n",
       "\n",
       "       [[0.91814153],\n",
       "        [0.92427497],\n",
       "        [0.92839291],\n",
       "        [0.93300119],\n",
       "        [0.93947246],\n",
       "        [0.94976319],\n",
       "        [0.95716432],\n",
       "        [0.96321904],\n",
       "        [0.96738617],\n",
       "        [0.97108919]],\n",
       "\n",
       "       [[0.92427497],\n",
       "        [0.92839291],\n",
       "        [0.93300119],\n",
       "        [0.93947246],\n",
       "        [0.94976319],\n",
       "        [0.95716432],\n",
       "        [0.96321904],\n",
       "        [0.96738617],\n",
       "        [0.97108919],\n",
       "        [0.97751127]],\n",
       "\n",
       "       [[0.92839291],\n",
       "        [0.93300119],\n",
       "        [0.93947246],\n",
       "        [0.94976319],\n",
       "        [0.95716432],\n",
       "        [0.96321904],\n",
       "        [0.96738617],\n",
       "        [0.97108919],\n",
       "        [0.97751127],\n",
       "        [0.9838743 ]],\n",
       "\n",
       "       [[0.93300119],\n",
       "        [0.93947246],\n",
       "        [0.94976319],\n",
       "        [0.95716432],\n",
       "        [0.96321904],\n",
       "        [0.96738617],\n",
       "        [0.97108919],\n",
       "        [0.97751127],\n",
       "        [0.9838743 ],\n",
       "        [0.98944688]],\n",
       "\n",
       "       [[0.93947246],\n",
       "        [0.94976319],\n",
       "        [0.95716432],\n",
       "        [0.96321904],\n",
       "        [0.96738617],\n",
       "        [0.97108919],\n",
       "        [0.97751127],\n",
       "        [0.9838743 ],\n",
       "        [0.98944688],\n",
       "        [0.9955262 ]]])"
      ]
     },
     "execution_count": 36,
     "metadata": {},
     "output_type": "execute_result"
    }
   ],
   "source": [
    "x_test"
   ]
  },
  {
   "cell_type": "code",
   "execution_count": 37,
   "metadata": {},
   "outputs": [
    {
     "data": {
      "text/plain": [
       "34"
      ]
     },
     "execution_count": 37,
     "metadata": {},
     "output_type": "execute_result"
    }
   ],
   "source": [
    "len(x_test)"
   ]
  },
  {
   "cell_type": "code",
   "execution_count": 38,
   "metadata": {},
   "outputs": [],
   "source": [
    "predictions = model.predict(x_test)\n",
    "predictions = scaler.inverse_transform(predictions)"
   ]
  },
  {
   "cell_type": "code",
   "execution_count": 39,
   "metadata": {},
   "outputs": [
    {
     "data": {
      "text/plain": [
       "array([[391912.94],\n",
       "       [403806.53],\n",
       "       [415541.7 ],\n",
       "       [427338.97],\n",
       "       [439382.22],\n",
       "       [451361.62],\n",
       "       [463054.25],\n",
       "       [473859.06],\n",
       "       [483727.53],\n",
       "       [493286.  ],\n",
       "       [502809.03],\n",
       "       [512360.25],\n",
       "       [521693.22],\n",
       "       [530561.75],\n",
       "       [538578.4 ],\n",
       "       [545672.75],\n",
       "       [552441.44],\n",
       "       [559146.06],\n",
       "       [565714.4 ],\n",
       "       [572096.  ],\n",
       "       [578212.56],\n",
       "       [583732.25],\n",
       "       [588514.8 ],\n",
       "       [592678.56],\n",
       "       [596509.5 ],\n",
       "       [600393.75],\n",
       "       [604142.06],\n",
       "       [607671.3 ],\n",
       "       [610873.3 ],\n",
       "       [613709.5 ],\n",
       "       [616420.75],\n",
       "       [619139.  ],\n",
       "       [621854.44],\n",
       "       [624582.3 ]], dtype=float32)"
      ]
     },
     "execution_count": 39,
     "metadata": {},
     "output_type": "execute_result"
    }
   ],
   "source": [
    "predictions"
   ]
  },
  {
   "cell_type": "code",
   "execution_count": 40,
   "metadata": {},
   "outputs": [
    {
     "data": {
      "text/plain": [
       "34"
      ]
     },
     "execution_count": 40,
     "metadata": {},
     "output_type": "execute_result"
    }
   ],
   "source": [
    "len(predictions)"
   ]
  },
  {
   "cell_type": "code",
   "execution_count": 41,
   "metadata": {},
   "outputs": [
    {
     "data": {
      "text/plain": [
       "13477.44669117647"
      ]
     },
     "execution_count": 41,
     "metadata": {},
     "output_type": "execute_result"
    }
   ],
   "source": [
    "rmse = np.sqrt( np.mean( predictions - y_test )**2)\n",
    "rmse"
   ]
  },
  {
   "cell_type": "code",
   "execution_count": 42,
   "metadata": {},
   "outputs": [],
   "source": [
    "train = data[:training_data_len]\n",
    "valid = data[training_data_len:]\n",
    "valid['Predicted Cases'] = predictions"
   ]
  },
  {
   "cell_type": "code",
   "execution_count": 43,
   "metadata": {},
   "outputs": [
    {
     "data": {
      "image/png": "[encoded data removed]",
      "text/plain": [
       "<Figure size 1584x720 with 1 Axes>"
      ]
     },
     "metadata": {
      "needs_background": "light"
     },
     "output_type": "display_data"
    }
   ],
   "source": [
    "plt.figure(figsize=(22,10))\n",
    "plt.title('Model')\n",
    "plt.xlabel('Date', fontsize=12)\n",
    "plt.xticks(rotation=45)\n",
    "plt.ylabel('Confirmed Cases', fontsize=12)\n",
    "plt.plot(train['total'])\n",
    "plt.plot(valid[['total', 'Predicted Cases']])\n",
    "plt.legend(['Train', 'Val', 'Predictions'], loc='lower right')\n",
    "# plt.savefig('output.png', dpi=300)\n",
    "plt.show()"
   ]
  },
  {
   "cell_type": "code",
   "execution_count": 44,
   "metadata": {},
   "outputs": [
    {
     "data": {
      "text/html": [
       "<div>\n",
       "<style scoped>\n",
       "    .dataframe tbody tr th:only-of-type {\n",
       "        vertical-align: middle;\n",
       "    }\n",
       "\n",
       "    .dataframe tbody tr th {\n",
       "        vertical-align: top;\n",
       "    }\n",
       "\n",
       "    .dataframe thead th {\n",
       "        text-align: right;\n",
       "    }\n",
       "</style>\n",
       "<table border=\"1\" class=\"dataframe\">\n",
       "  <thead>\n",
       "    <tr style=\"text-align: right;\">\n",
       "      <th></th>\n",
       "      <th>total</th>\n",
       "      <th>Predicted Cases</th>\n",
       "    </tr>\n",
       "  </thead>\n",
       "  <tbody>\n",
       "    <tr>\n",
       "      <th>136</th>\n",
       "      <td>381798</td>\n",
       "      <td>391912.93750</td>\n",
       "    </tr>\n",
       "    <tr>\n",
       "      <th>137</th>\n",
       "      <td>394948</td>\n",
       "      <td>403806.53125</td>\n",
       "    </tr>\n",
       "    <tr>\n",
       "      <th>138</th>\n",
       "      <td>408052</td>\n",
       "      <td>415541.68750</td>\n",
       "    </tr>\n",
       "    <tr>\n",
       "      <th>139</th>\n",
       "      <td>421996</td>\n",
       "      <td>427338.96875</td>\n",
       "    </tr>\n",
       "    <tr>\n",
       "      <th>140</th>\n",
       "      <td>434200</td>\n",
       "      <td>439382.21875</td>\n",
       "    </tr>\n",
       "    <tr>\n",
       "      <th>141</th>\n",
       "      <td>445433</td>\n",
       "      <td>451361.62500</td>\n",
       "    </tr>\n",
       "    <tr>\n",
       "      <th>142</th>\n",
       "      <td>452529</td>\n",
       "      <td>463054.25000</td>\n",
       "    </tr>\n",
       "    <tr>\n",
       "      <th>143</th>\n",
       "      <td>459761</td>\n",
       "      <td>473859.06250</td>\n",
       "    </tr>\n",
       "    <tr>\n",
       "      <th>144</th>\n",
       "      <td>471123</td>\n",
       "      <td>483727.53125</td>\n",
       "    </tr>\n",
       "    <tr>\n",
       "      <th>145</th>\n",
       "      <td>482169</td>\n",
       "      <td>493286.00000</td>\n",
       "    </tr>\n",
       "    <tr>\n",
       "      <th>146</th>\n",
       "      <td>493183</td>\n",
       "      <td>502809.03125</td>\n",
       "    </tr>\n",
       "    <tr>\n",
       "      <th>147</th>\n",
       "      <td>503290</td>\n",
       "      <td>512360.25000</td>\n",
       "    </tr>\n",
       "    <tr>\n",
       "      <th>148</th>\n",
       "      <td>511485</td>\n",
       "      <td>521693.21875</td>\n",
       "    </tr>\n",
       "    <tr>\n",
       "      <th>149</th>\n",
       "      <td>516862</td>\n",
       "      <td>530561.75000</td>\n",
       "    </tr>\n",
       "    <tr>\n",
       "      <th>150</th>\n",
       "      <td>521318</td>\n",
       "      <td>538578.37500</td>\n",
       "    </tr>\n",
       "    <tr>\n",
       "      <th>151</th>\n",
       "      <td>529877</td>\n",
       "      <td>545672.75000</td>\n",
       "    </tr>\n",
       "    <tr>\n",
       "      <th>152</th>\n",
       "      <td>538184</td>\n",
       "      <td>552441.43750</td>\n",
       "    </tr>\n",
       "    <tr>\n",
       "      <th>153</th>\n",
       "      <td>545476</td>\n",
       "      <td>559146.06250</td>\n",
       "    </tr>\n",
       "    <tr>\n",
       "      <th>154</th>\n",
       "      <td>553188</td>\n",
       "      <td>565714.37500</td>\n",
       "    </tr>\n",
       "    <tr>\n",
       "      <th>155</th>\n",
       "      <td>559858</td>\n",
       "      <td>572096.00000</td>\n",
       "    </tr>\n",
       "    <tr>\n",
       "      <th>156</th>\n",
       "      <td>563598</td>\n",
       "      <td>578212.56250</td>\n",
       "    </tr>\n",
       "    <tr>\n",
       "      <th>157</th>\n",
       "      <td>566109</td>\n",
       "      <td>583732.25000</td>\n",
       "    </tr>\n",
       "    <tr>\n",
       "      <th>158</th>\n",
       "      <td>568919</td>\n",
       "      <td>588514.81250</td>\n",
       "    </tr>\n",
       "    <tr>\n",
       "      <th>159</th>\n",
       "      <td>572865</td>\n",
       "      <td>592678.56250</td>\n",
       "    </tr>\n",
       "    <tr>\n",
       "      <th>160</th>\n",
       "      <td>579140</td>\n",
       "      <td>596509.50000</td>\n",
       "    </tr>\n",
       "    <tr>\n",
       "      <th>161</th>\n",
       "      <td>583653</td>\n",
       "      <td>600393.75000</td>\n",
       "    </tr>\n",
       "    <tr>\n",
       "      <th>162</th>\n",
       "      <td>587345</td>\n",
       "      <td>604142.06250</td>\n",
       "    </tr>\n",
       "    <tr>\n",
       "      <th>163</th>\n",
       "      <td>589886</td>\n",
       "      <td>607671.31250</td>\n",
       "    </tr>\n",
       "    <tr>\n",
       "      <th>164</th>\n",
       "      <td>592144</td>\n",
       "      <td>610873.31250</td>\n",
       "    </tr>\n",
       "    <tr>\n",
       "      <th>165</th>\n",
       "      <td>596060</td>\n",
       "      <td>613709.50000</td>\n",
       "    </tr>\n",
       "    <tr>\n",
       "      <th>166</th>\n",
       "      <td>599940</td>\n",
       "      <td>616420.75000</td>\n",
       "    </tr>\n",
       "    <tr>\n",
       "      <th>167</th>\n",
       "      <td>603338</td>\n",
       "      <td>619139.00000</td>\n",
       "    </tr>\n",
       "    <tr>\n",
       "      <th>168</th>\n",
       "      <td>607045</td>\n",
       "      <td>621854.43750</td>\n",
       "    </tr>\n",
       "    <tr>\n",
       "      <th>169</th>\n",
       "      <td>609773</td>\n",
       "      <td>624582.31250</td>\n",
       "    </tr>\n",
       "  </tbody>\n",
       "</table>\n",
       "</div>"
      ],
      "text/plain": [
       "      total  Predicted Cases\n",
       "136  381798     391912.93750\n",
       "137  394948     403806.53125\n",
       "138  408052     415541.68750\n",
       "139  421996     427338.96875\n",
       "140  434200     439382.21875\n",
       "141  445433     451361.62500\n",
       "142  452529     463054.25000\n",
       "143  459761     473859.06250\n",
       "144  471123     483727.53125\n",
       "145  482169     493286.00000\n",
       "146  493183     502809.03125\n",
       "147  503290     512360.25000\n",
       "148  511485     521693.21875\n",
       "149  516862     530561.75000\n",
       "150  521318     538578.37500\n",
       "151  529877     545672.75000\n",
       "152  538184     552441.43750\n",
       "153  545476     559146.06250\n",
       "154  553188     565714.37500\n",
       "155  559858     572096.00000\n",
       "156  563598     578212.56250\n",
       "157  566109     583732.25000\n",
       "158  568919     588514.81250\n",
       "159  572865     592678.56250\n",
       "160  579140     596509.50000\n",
       "161  583653     600393.75000\n",
       "162  587345     604142.06250\n",
       "163  589886     607671.31250\n",
       "164  592144     610873.31250\n",
       "165  596060     613709.50000\n",
       "166  599940     616420.75000\n",
       "167  603338     619139.00000\n",
       "168  607045     621854.43750\n",
       "169  609773     624582.31250"
      ]
     },
     "execution_count": 44,
     "metadata": {},
     "output_type": "execute_result"
    }
   ],
   "source": [
    "valid"
   ]
  },
  {
   "cell_type": "code",
   "execution_count": 45,
   "metadata": {},
   "outputs": [
    {
     "data": {
      "text/plain": [
       "34"
      ]
     },
     "execution_count": 45,
     "metadata": {},
     "output_type": "execute_result"
    }
   ],
   "source": [
    "len(valid)"
   ]
  },
  {
   "cell_type": "code",
   "execution_count": 46,
   "metadata": {},
   "outputs": [
    {
     "data": {
      "text/plain": [
       "<matplotlib.legend.Legend at 0x287fb801388>"
      ]
     },
     "execution_count": 46,
     "metadata": {},
     "output_type": "execute_result"
    },
    {
     "data": {
      "image/png": "[encoded data removed]",
      "text/plain": [
       "<Figure size 1152x576 with 1 Axes>"
      ]
     },
     "metadata": {
      "needs_background": "light"
     },
     "output_type": "display_data"
    }
   ],
   "source": [
    "plt.figure(figsize=(16,8))\n",
    "plt.title('Model')\n",
    "plt.xlabel('Date', fontsize=12)\n",
    "plt.xticks(rotation=45)\n",
    "plt.ylabel('total', fontsize=12)\n",
    "plt.plot(valid)\n",
    "plt.legend(['Train', 'Predictions'], loc='lower right')\n",
    "# plt.savefig('output1.png', dpi=300)\n",
    "#plt.show()"
   ]
  },
  {
   "cell_type": "code",
   "execution_count": 47,
   "metadata": {},
   "outputs": [
    {
     "name": "stdout",
     "output_type": "stream",
     "text": [
      "0.9556971848220166\n"
     ]
    }
   ],
   "source": [
    "from sklearn.metrics import r2_score\n",
    "score = r2_score(valid['total'], valid['Predicted Cases'])\n",
    "print(score)"
   ]
  },
  {
   "cell_type": "code",
   "execution_count": null,
   "metadata": {},
   "outputs": [],
   "source": []
  },
  {
   "cell_type": "code",
   "execution_count": null,
   "metadata": {},
   "outputs": [],
   "source": []
  },
  {
   "cell_type": "code",
   "execution_count": null,
   "metadata": {},
   "outputs": [],
   "source": []
  },
  {
   "cell_type": "code",
   "execution_count": null,
   "metadata": {},
   "outputs": [],
   "source": []
  }
 ],
 "metadata": {
  "kernelspec": {
   "display_name": "Python 3",
   "language": "python",
   "name": "python3"
  },
  "language_info": {
   "codemirror_mode": {
    "name": "ipython",
    "version": 3
   },
   "file_extension": ".py",
   "mimetype": "text/x-python",
   "name": "python",
   "nbconvert_exporter": "python",
   "pygments_lexer": "ipython3",
   "version": "3.7.4"
  }
 },
 "nbformat": 4,
 "nbformat_minor": 2
}
